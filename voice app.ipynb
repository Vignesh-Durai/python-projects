{
 "cells": [
  {
   "cell_type": "code",
   "execution_count": 8,
   "id": "6ebde94a-8375-4498-be49-751b58e3c2a0",
   "metadata": {},
   "outputs": [
    {
     "name": "stdout",
     "output_type": "stream",
     "text": [
      "Requirement already satisfied: PyAudio in c:\\users\\vigne\\anaconda3\\lib\\site-packages (0.2.14)\n",
      "Note: you may need to restart the kernel to use updated packages.\n"
     ]
    }
   ],
   "source": [
    "pip install PyAudio\n"
   ]
  },
  {
   "cell_type": "code",
   "execution_count": 9,
   "id": "e5748411-ca08-4bd7-aa65-37f746a81cca",
   "metadata": {},
   "outputs": [
    {
     "name": "stdout",
     "output_type": "stream",
     "text": [
      "Requirement already satisfied: pipwin in c:\\users\\vigne\\anaconda3\\lib\\site-packages (0.5.2)\n",
      "Requirement already satisfied: docopt in c:\\users\\vigne\\anaconda3\\lib\\site-packages (from pipwin) (0.6.2)\n",
      "Requirement already satisfied: requests in c:\\users\\vigne\\anaconda3\\lib\\site-packages (from pipwin) (2.32.3)\n",
      "Requirement already satisfied: pyprind in c:\\users\\vigne\\anaconda3\\lib\\site-packages (from pipwin) (2.11.3)\n",
      "Requirement already satisfied: six in c:\\users\\vigne\\anaconda3\\lib\\site-packages (from pipwin) (1.16.0)\n",
      "Requirement already satisfied: beautifulsoup4>=4.9.0 in c:\\users\\vigne\\anaconda3\\lib\\site-packages (from pipwin) (4.12.3)\n",
      "Requirement already satisfied: js2py in c:\\users\\vigne\\anaconda3\\lib\\site-packages (from pipwin) (0.74)\n",
      "Requirement already satisfied: packaging in c:\\users\\vigne\\anaconda3\\lib\\site-packages (from pipwin) (24.1)\n",
      "Requirement already satisfied: pySmartDL>=1.3.1 in c:\\users\\vigne\\anaconda3\\lib\\site-packages (from pipwin) (1.3.4)\n",
      "Requirement already satisfied: soupsieve>1.2 in c:\\users\\vigne\\anaconda3\\lib\\site-packages (from beautifulsoup4>=4.9.0->pipwin) (2.5)\n",
      "Requirement already satisfied: tzlocal>=1.2 in c:\\users\\vigne\\anaconda3\\lib\\site-packages (from js2py->pipwin) (5.3.1)\n",
      "Requirement already satisfied: pyjsparser>=2.5.1 in c:\\users\\vigne\\anaconda3\\lib\\site-packages (from js2py->pipwin) (2.7.1)\n",
      "Requirement already satisfied: charset-normalizer<4,>=2 in c:\\users\\vigne\\anaconda3\\lib\\site-packages (from requests->pipwin) (3.3.2)\n",
      "Requirement already satisfied: idna<4,>=2.5 in c:\\users\\vigne\\anaconda3\\lib\\site-packages (from requests->pipwin) (3.7)\n",
      "Requirement already satisfied: urllib3<3,>=1.21.1 in c:\\users\\vigne\\anaconda3\\lib\\site-packages (from requests->pipwin) (2.2.3)\n",
      "Requirement already satisfied: certifi>=2017.4.17 in c:\\users\\vigne\\anaconda3\\lib\\site-packages (from requests->pipwin) (2025.1.31)\n",
      "Requirement already satisfied: tzdata in c:\\users\\vigne\\anaconda3\\lib\\site-packages (from tzlocal>=1.2->js2py->pipwin) (2023.3)\n",
      "Note: you may need to restart the kernel to use updated packages.\n"
     ]
    }
   ],
   "source": [
    "pip install pipwin"
   ]
  },
  {
   "cell_type": "code",
   "execution_count": 12,
   "id": "ff994634-04d9-4501-b64e-d09d6d4aaa21",
   "metadata": {},
   "outputs": [
    {
     "name": "stdout",
     "output_type": "stream",
     "text": [
      "Requirement already satisfied: pyttsx3 in c:\\users\\vigne\\anaconda3\\lib\\site-packages (2.98)\n",
      "Requirement already satisfied: comtypes in c:\\users\\vigne\\anaconda3\\lib\\site-packages (from pyttsx3) (1.4.10)\n",
      "Requirement already satisfied: pypiwin32 in c:\\users\\vigne\\anaconda3\\lib\\site-packages (from pyttsx3) (223)\n",
      "Requirement already satisfied: pywin32 in c:\\users\\vigne\\anaconda3\\lib\\site-packages (from pyttsx3) (305.1)\n"
     ]
    }
   ],
   "source": [
    "!pip install pyttsx3\n"
   ]
  },
  {
   "cell_type": "code",
   "execution_count": 13,
   "id": "c39559af-d6f0-424d-81b0-adaec7638671",
   "metadata": {},
   "outputs": [
    {
     "name": "stdout",
     "output_type": "stream",
     "text": [
      "Requirement already satisfied: SpeechRecognition in c:\\users\\vigne\\anaconda3\\lib\\site-packages (3.14.2)\n",
      "Requirement already satisfied: typing-extensions in c:\\users\\vigne\\anaconda3\\lib\\site-packages (from SpeechRecognition) (4.11.0)\n"
     ]
    }
   ],
   "source": [
    "!pip install SpeechRecognition\n"
   ]
  },
  {
   "cell_type": "code",
   "execution_count": 4,
   "id": "9e2c91ac-1bf2-40ae-9337-764d744c1c60",
   "metadata": {},
   "outputs": [],
   "source": [
    "import pyttsx3\n",
    "import speech_recognition as sr\n",
    "import datetime\n",
    "import webbrowser\n",
    "import os\n",
    "import comtypes.client"
   ]
  },
  {
   "cell_type": "code",
   "execution_count": null,
   "id": "5c3c70af-d702-4220-acfb-54610e086874",
   "metadata": {},
   "outputs": [
    {
     "name": "stdout",
     "output_type": "stream",
     "text": [
      "V.I.C.K.Y.: Good afternoon Vicky!\n",
      "V.I.C.K.Y.: I am V.I.C.K.Y., your virtual assistant. How can I help you?\n"
     ]
    }
   ],
   "source": [
    "\n",
    "engine = pyttsx3.init('sapi5')\n",
    "voices = engine.getProperty('voices')\n",
    "engine.setProperty(\"voice\", voices[0].id)\n",
    "\n",
    "def speak(text):\n",
    "    print(f\"V.I.C.K.Y.: {text}\")\n",
    "    engine.say(text)\n",
    "    engine.runAndWait()\n",
    "\n",
    "def wishMe():\n",
    "    hour = int(datetime.datetime.now().hour)\n",
    "    if hour < 12:\n",
    "        speak(\"Good morning Vicky!\")\n",
    "    elif hour < 18:\n",
    "        speak(\"Good afternoon Vicky!\")\n",
    "    else:\n",
    "        speak(\"Good evening Vicky!\")\n",
    "    speak(\"I am V.I.C.K.Y., your virtual assistant. How can I help you?\")\n",
    "\n",
    "def takeCommand():\n",
    "    r = sr.Recognizer()\n",
    "    with sr.Microphone() as source:\n",
    "        print(\"Listening....\")\n",
    "        r.pause_threshold = 1\n",
    "        audio = r.listen(source)\n",
    "\n",
    "    try:\n",
    "        print(\"Recognizing...\")\n",
    "        query = r.recognize_google(audio, language='en-in')\n",
    "        print(f\"You said: {query}\")\n",
    "    except Exception as e:\n",
    "        print(\"Say that again please...\")\n",
    "        return \"None\"\n",
    "    return query\n",
    "\n",
    "# Start\n",
    "wishMe()\n",
    "while True:\n",
    "    query = takeCommand().lower()\n",
    "\n",
    "    if 'stop' in query or 'exit' in query:\n",
    "        speak(\"Goodbye dude!\")\n",
    "        break\n",
    "\n",
    "    elif 'time' in query:\n",
    "        time = datetime.datetime.now().strftime(\"%H:%M\")\n",
    "        speak(f\"The time is {time}\")\n",
    "\n",
    "    elif 'open youtube' in query:\n",
    "        webbrowser.open(\"https://www.youtube.com\")\n",
    "        speak(\"Opening YouTube\")\n",
    "\n",
    "    elif 'open google' in query:\n",
    "        webbrowser.open(\"https://www.google.com\")\n",
    "        speak(\"Opening Google\")\n",
    "\n",
    "    elif 'open notepad' in query:\n",
    "        os.system(\"notepad\")\n",
    "        speak(\"Opening Notepad\")\n",
    "\n",
    "    elif 'open chrome' in query:\n",
    "        chrome_path = \"C:\\\\Program Files\\\\Google\\\\Chrome\\\\Application\\\\chrome.exe\"\n",
    "        os.startfile(chrome_path)\n",
    "        speak(\"Opening Google Chrome\")\n",
    "\n",
    "    else:\n",
    "        speak(\"You said: \" + query)\n"
   ]
  },
  {
   "cell_type": "code",
   "execution_count": null,
   "id": "6b11efd8-9841-4ffd-abec-2bde4ff46c63",
   "metadata": {},
   "outputs": [],
   "source": []
  }
 ],
 "metadata": {
  "kernelspec": {
   "display_name": "Python [conda env:base] *",
   "language": "python",
   "name": "conda-base-py"
  },
  "language_info": {
   "codemirror_mode": {
    "name": "ipython",
    "version": 3
   },
   "file_extension": ".py",
   "mimetype": "text/x-python",
   "name": "python",
   "nbconvert_exporter": "python",
   "pygments_lexer": "ipython3",
   "version": "3.12.7"
  }
 },
 "nbformat": 4,
 "nbformat_minor": 5
}
